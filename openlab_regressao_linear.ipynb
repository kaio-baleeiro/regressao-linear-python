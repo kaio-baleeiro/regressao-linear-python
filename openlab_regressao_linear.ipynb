{
  "nbformat": 4,
  "nbformat_minor": 0,
  "metadata": {
    "colab": {
      "provenance": [],
      "mount_file_id": "1jGj8cRgBs-g3TfH7quWc_nxmIqVlTx_S",
      "authorship_tag": "ABX9TyNU8dc0vhEq8obu4OnkM7l4",
      "include_colab_link": true
    },
    "kernelspec": {
      "name": "python3",
      "display_name": "Python 3"
    },
    "language_info": {
      "name": "python"
    }
  },
  "cells": [
    {
      "cell_type": "markdown",
      "metadata": {
        "id": "view-in-github",
        "colab_type": "text"
      },
      "source": [
        "<a href=\"https://colab.research.google.com/github/kaio-baleeiro/regressao-linear-python/blob/main/openlab_regressao_linear.ipynb\" target=\"_parent\"><img src=\"https://colab.research.google.com/assets/colab-badge.svg\" alt=\"Open In Colab\"/></a>"
      ]
    },
    {
      "cell_type": "markdown",
      "source": [
        "Integrantes do Grupo\n",
        "\n",
        "*   Douglas Dourado Vila Nova\n",
        "*   Kaio Silva Baleeiro de Jesus\n",
        "*   Mario Heleno da Silva Filho\n",
        "\n"
      ],
      "metadata": {
        "id": "qLotjGnBmq4y"
      }
    },
    {
      "cell_type": "code",
      "execution_count": 321,
      "metadata": {
        "id": "mBzhFTzzId7j"
      },
      "outputs": [],
      "source": [
        "# Importando libs\n",
        "import numpy as np\n",
        "import matplotlib.pyplot as plt\n",
        "from sklearn.linear_model import LinearRegression\n",
        "import pandas as pd\n",
        "from sklearn.model_selection import train_test_split\n",
        "from sklearn.metrics import r2_score"
      ]
    },
    {
      "cell_type": "code",
      "source": [
        "# Importando dataset\n",
        "dataset = pd.read_csv('dados.csv')"
      ],
      "metadata": {
        "id": "pkG-vwR8S77y"
      },
      "execution_count": 322,
      "outputs": []
    },
    {
      "cell_type": "code",
      "source": [
        "# Dados para teste e treinamento\n",
        "X = dataset.iloc[:, :-1].values\n",
        "y = dataset.iloc[:, -1].values\n",
        "X_train, X_test, y_train, y_test = train_test_split(X, y, test_size = 0.2, \n",
        "                                                    random_state = 0)"
      ],
      "metadata": {
        "id": "uJKmNMdBImda"
      },
      "execution_count": 323,
      "outputs": []
    },
    {
      "cell_type": "code",
      "source": [
        "print('X_train: ', X_train)\n",
        "print('X_test: ', X_test)\n",
        "print('y_train: ', y_train)\n",
        "print('y_test: ', y_test)"
      ],
      "metadata": {
        "id": "_1gFxBJiXdbC"
      },
      "execution_count": null,
      "outputs": []
    },
    {
      "cell_type": "code",
      "source": [
        "# Criando um objeto de regressão linear\n",
        "reg = LinearRegression()"
      ],
      "metadata": {
        "id": "lyZA6TMoInGy"
      },
      "execution_count": 325,
      "outputs": []
    },
    {
      "cell_type": "code",
      "source": [
        "# Treinando o modelo usando os dados de treinamento\n",
        "reg.fit(X_train, y_train)"
      ],
      "metadata": {
        "colab": {
          "base_uri": "https://localhost:8080/",
          "height": 74
        },
        "id": "JqjPkr_BInXm",
        "outputId": "d4f0efca-1eaf-475e-a7b3-89971a6bbf08"
      },
      "execution_count": 326,
      "outputs": [
        {
          "output_type": "execute_result",
          "data": {
            "text/plain": [
              "LinearRegression()"
            ],
            "text/html": [
              "<style>#sk-container-id-30 {color: black;background-color: white;}#sk-container-id-30 pre{padding: 0;}#sk-container-id-30 div.sk-toggleable {background-color: white;}#sk-container-id-30 label.sk-toggleable__label {cursor: pointer;display: block;width: 100%;margin-bottom: 0;padding: 0.3em;box-sizing: border-box;text-align: center;}#sk-container-id-30 label.sk-toggleable__label-arrow:before {content: \"▸\";float: left;margin-right: 0.25em;color: #696969;}#sk-container-id-30 label.sk-toggleable__label-arrow:hover:before {color: black;}#sk-container-id-30 div.sk-estimator:hover label.sk-toggleable__label-arrow:before {color: black;}#sk-container-id-30 div.sk-toggleable__content {max-height: 0;max-width: 0;overflow: hidden;text-align: left;background-color: #f0f8ff;}#sk-container-id-30 div.sk-toggleable__content pre {margin: 0.2em;color: black;border-radius: 0.25em;background-color: #f0f8ff;}#sk-container-id-30 input.sk-toggleable__control:checked~div.sk-toggleable__content {max-height: 200px;max-width: 100%;overflow: auto;}#sk-container-id-30 input.sk-toggleable__control:checked~label.sk-toggleable__label-arrow:before {content: \"▾\";}#sk-container-id-30 div.sk-estimator input.sk-toggleable__control:checked~label.sk-toggleable__label {background-color: #d4ebff;}#sk-container-id-30 div.sk-label input.sk-toggleable__control:checked~label.sk-toggleable__label {background-color: #d4ebff;}#sk-container-id-30 input.sk-hidden--visually {border: 0;clip: rect(1px 1px 1px 1px);clip: rect(1px, 1px, 1px, 1px);height: 1px;margin: -1px;overflow: hidden;padding: 0;position: absolute;width: 1px;}#sk-container-id-30 div.sk-estimator {font-family: monospace;background-color: #f0f8ff;border: 1px dotted black;border-radius: 0.25em;box-sizing: border-box;margin-bottom: 0.5em;}#sk-container-id-30 div.sk-estimator:hover {background-color: #d4ebff;}#sk-container-id-30 div.sk-parallel-item::after {content: \"\";width: 100%;border-bottom: 1px solid gray;flex-grow: 1;}#sk-container-id-30 div.sk-label:hover label.sk-toggleable__label {background-color: #d4ebff;}#sk-container-id-30 div.sk-serial::before {content: \"\";position: absolute;border-left: 1px solid gray;box-sizing: border-box;top: 0;bottom: 0;left: 50%;z-index: 0;}#sk-container-id-30 div.sk-serial {display: flex;flex-direction: column;align-items: center;background-color: white;padding-right: 0.2em;padding-left: 0.2em;position: relative;}#sk-container-id-30 div.sk-item {position: relative;z-index: 1;}#sk-container-id-30 div.sk-parallel {display: flex;align-items: stretch;justify-content: center;background-color: white;position: relative;}#sk-container-id-30 div.sk-item::before, #sk-container-id-30 div.sk-parallel-item::before {content: \"\";position: absolute;border-left: 1px solid gray;box-sizing: border-box;top: 0;bottom: 0;left: 50%;z-index: -1;}#sk-container-id-30 div.sk-parallel-item {display: flex;flex-direction: column;z-index: 1;position: relative;background-color: white;}#sk-container-id-30 div.sk-parallel-item:first-child::after {align-self: flex-end;width: 50%;}#sk-container-id-30 div.sk-parallel-item:last-child::after {align-self: flex-start;width: 50%;}#sk-container-id-30 div.sk-parallel-item:only-child::after {width: 0;}#sk-container-id-30 div.sk-dashed-wrapped {border: 1px dashed gray;margin: 0 0.4em 0.5em 0.4em;box-sizing: border-box;padding-bottom: 0.4em;background-color: white;}#sk-container-id-30 div.sk-label label {font-family: monospace;font-weight: bold;display: inline-block;line-height: 1.2em;}#sk-container-id-30 div.sk-label-container {text-align: center;}#sk-container-id-30 div.sk-container {/* jupyter's `normalize.less` sets `[hidden] { display: none; }` but bootstrap.min.css set `[hidden] { display: none !important; }` so we also need the `!important` here to be able to override the default hidden behavior on the sphinx rendered scikit-learn.org. See: https://github.com/scikit-learn/scikit-learn/issues/21755 */display: inline-block !important;position: relative;}#sk-container-id-30 div.sk-text-repr-fallback {display: none;}</style><div id=\"sk-container-id-30\" class=\"sk-top-container\"><div class=\"sk-text-repr-fallback\"><pre>LinearRegression()</pre><b>In a Jupyter environment, please rerun this cell to show the HTML representation or trust the notebook. <br />On GitHub, the HTML representation is unable to render, please try loading this page with nbviewer.org.</b></div><div class=\"sk-container\" hidden><div class=\"sk-item\"><div class=\"sk-estimator sk-toggleable\"><input class=\"sk-toggleable__control sk-hidden--visually\" id=\"sk-estimator-id-30\" type=\"checkbox\" checked><label for=\"sk-estimator-id-30\" class=\"sk-toggleable__label sk-toggleable__label-arrow\">LinearRegression</label><div class=\"sk-toggleable__content\"><pre>LinearRegression()</pre></div></div></div></div></div>"
            ]
          },
          "metadata": {},
          "execution_count": 326
        }
      ]
    },
    {
      "cell_type": "code",
      "source": [
        "# Fazendo previsões usando o modelo treinado\n",
        "y_pred = reg.predict(X_test)"
      ],
      "metadata": {
        "id": "5KIiv12vI1Nt"
      },
      "execution_count": 327,
      "outputs": []
    },
    {
      "cell_type": "code",
      "source": [
        "# Previsão de dado fora do dataset usado\n",
        "np.random.seed(63)\n",
        "exemplo_x = np.random.rand() * -7.003003003003001936e-01\n",
        "exemplo_y_previsto = reg.predict([[exemplo_x]])\n",
        "print(f'O y para x={exemplo_x} é {exemplo_y_previsto[0]}')"
      ],
      "metadata": {
        "colab": {
          "base_uri": "https://localhost:8080/"
        },
        "id": "uPrrPtAUKYJ0",
        "outputId": "c647e0da-7b8b-476d-9b3b-0f700ad1fcac"
      },
      "execution_count": 339,
      "outputs": [
        {
          "output_type": "stream",
          "name": "stdout",
          "text": [
            "O y para x=-0.38792506440581603 é 3.569044534694668\n"
          ]
        }
      ]
    },
    {
      "cell_type": "code",
      "source": [
        "# Plotando os dados e a reta de regressão linear\n",
        "plt.scatter(X_train, y_train, color='black')\n",
        "plt.plot(X_test, y_pred, color='blue', linewidth=2)\n",
        "plt.scatter(exemplo_x, exemplo_y_previsto, color='red', s=100)\n",
        "\n",
        "plt.title('Regressão Linear')\n",
        "plt.xlabel('X')\n",
        "plt.ylabel('Y')\n",
        "\n",
        "plt.show()"
      ],
      "metadata": {
        "colab": {
          "base_uri": "https://localhost:8080/",
          "height": 295
        },
        "id": "gKdy4Hn3I0_N",
        "outputId": "06e7ecdf-6e46-4b68-e5f1-9abe646dd79b"
      },
      "execution_count": 340,
      "outputs": [
        {
          "output_type": "display_data",
          "data": {
            "text/plain": [
              "<Figure size 432x288 with 1 Axes>"
            ],
            "image/png": "[encoded data removed]"
          },
          "metadata": {
            "needs_background": "light"
          }
        }
      ]
    },
    {
      "cell_type": "code",
      "source": [
        "# Imprimindo medidas de erro\n",
        "r2 = r2_score(y_test, y_pred)\n",
        "print(\"Coeficiente angular (declividade da linha): \", reg.coef_)\n",
        "print(\"Ponto onde y é interceptado: \", reg.intercept_)\n",
        "print(\"R2 Score: \", r2)"
      ],
      "metadata": {
        "colab": {
          "base_uri": "https://localhost:8080/"
        },
        "id": "9hdhr5twI05u",
        "outputId": "1ef81e86-2ad5-4451-ffb0-02ca6cc8972a"
      },
      "execution_count": 330,
      "outputs": [
        {
          "output_type": "stream",
          "name": "stdout",
          "text": [
            "Coeficiente angular (declividade da linha):  [14.14972194]\n",
            "Ponto onde y é interceptado:  9.058076328827838\n",
            "R2 Score:  0.7055351894580135\n"
          ]
        }
      ]
    },
    {
      "cell_type": "markdown",
      "source": [
        "A atividade proporcionou uma experiência muito boa em como usar a biblioteca Scikit-Learn para criar modelos, nos permitindo realizar previsões com dados fora do dataset utilizado, como no caso da variável **exemplo_y_previsto**:\n",
        "\n",
        "```\n",
        "exemplo_y_previsto = reg.predict([[exemplo_x]])\n",
        "```\n",
        "\n",
        "Que possui uma previsão baseado na variável gerada aleatóriamente com o numpy, **exemplo_x**:\n",
        "\n",
        "```\n",
        "np.random.seed(63)\n",
        "exemplo_x = np.random.rand() * 3.003003003003001936e-01\n",
        "```\n",
        "Também foi possível exibir de maneira visual o comportamento do mesmo com a plotagem do gráfico, tornando ainda mais interessante a atividade.\n",
        "\n",
        "No entanto, quando falamos de como melhorar o desempenho do modelo, seria interessante explorar técnicas de pré-processamento de dados, como a normalização dos dados ou a remoção de outliers, para garantir que o modelo esteja sendo treinado com dados de alta qualidade e minimizar a influência de dados muito diferentes. Uma outra forma, é optar por diferentes técnicas de modelagem.\n",
        "\n",
        "Também é importante considerar a seleção de recursos relevantes, que é o processo de escolher as variáveis mais importantes para incluir no modelo. A seleção de recursos pode ajudar a reduzir a complexidade do modelo e melhorar a capacidade de generalização, o que pode levar a um desempenho melhor em dados que o modelo nunca viu antes, evitando a \"Maldição da Dimensionalidade\", visto antes na máteria de Reconhecimento de Padrões."
      ],
      "metadata": {
        "id": "Mg2uug0EcUKW"
      }
    }
  ]
}